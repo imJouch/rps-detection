{
 "cells": [
  {
   "cell_type": "code",
   "execution_count": null,
   "metadata": {},
   "outputs": [],
   "source": [
    "from keras.backend import clear_session\n",
    "import numpy as np\n",
    "import tensorflow as tf\n",
    "clear_session()\n",
    "np.set_printoptions(suppress=True)\n",
    "input_graph_name = \"rps.h5\"\n",
    "output_graph_name = input_graph_name[:-3] + '.tflite'\n",
    "converter = tf.lite.TFLiteConverter.from_keras_model_file(model_file=input_graph_name)\n",
    "converter.post_training_quantize = True\n",
    "tflite_model = converter.convert()\n",
    "open(output_graph_name, \"wb\").write(tflite_model)\n",
    "print (\"generate:\",output_graph_name)\n",
    "\n"
   ]
  },
  {
   "cell_type": "code",
   "execution_count": null,
   "metadata": {},
   "outputs": [],
   "source": [
    "\n",
    "import tensorflow as tf\n",
    "\n",
    "model_path = 'rps.tflite'\n",
    "\n",
    "interpreter = tf.lite.Interpreter(model_path=model_path)\n",
    "interpreter.allocate_tensors()\n",
    "\n",
    "# 获取输入和输出张量。\n",
    "input_details = interpreter.get_input_details()\n",
    "output_details = interpreter.get_output_details()\n",
    "\n",
    "print(input_details)\n",
    "print(output_details)\n",
    "# >>> print(input_details)\n",
    "# [{'name': 'conv2d_input', 'index': 12, 'shape': array([  1, 150, 150,   3], dtype=int32), 'dtype': <class 'numpy.float32'>, 'quantization': (0.0, 0)}]\n",
    "# >>> print(output_details)\n",
    "# [{'name': 'dense_1/Softmax', 'index': 18, 'shape': array([1, 3], dtype=int32), 'dtype': <class 'numpy.float32'>, 'quantization': (0.0, 0)}]\n",
    "# >>> "
   ]
  }
 ],
 "metadata": {
  "kernelspec": {
   "display_name": "Python 3",
   "language": "python",
   "name": "python3"
  },
  "language_info": {
   "codemirror_mode": {
    "name": "ipython",
    "version": 3
   },
   "file_extension": ".py",
   "mimetype": "text/x-python",
   "name": "python",
   "nbconvert_exporter": "python",
   "pygments_lexer": "ipython3",
   "version": "3.7.9"
  }
 },
 "nbformat": 4,
 "nbformat_minor": 4
}
